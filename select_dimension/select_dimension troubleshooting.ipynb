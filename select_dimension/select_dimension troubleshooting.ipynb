{
 "cells": [
  {
   "cell_type": "markdown",
   "metadata": {},
   "source": [
    "# Figuring Out Select Dimension"
   ]
  },
  {
   "cell_type": "code",
   "execution_count": null,
   "metadata": {},
   "outputs": [],
   "source": [
    "#Debugging n_elbows\n",
    "n = [25, 25]\n",
    "d = []\n",
    "blocks = []\n",
    "within_block = 0.999\n",
    "btwn_block = 0.001\n",
    "P2 = np.array([[within_block, btwn_block],\n",
    "      [btwn_block, within_block]])\n",
    "from graspy.plot import pairplot\n",
    "labels = [\"Block 1\"]*25 + [\"Block 2\"]*25\n",
    "\n",
    "for i in range(100):\n",
    "    blocks.append(P2.shape[0])\n",
    "    G = [sbm(n, P2) for j in range(10)]\n",
    "    V_hat = embedder.fit_transform(G)\n",
    "    d.append(V_hat.shape[1])\n",
    "    \n",
    "    concat1 = np.array([[btwn_block]*P2.shape[0]])\n",
    "    concat2 = np.array([[btwn_block]]*P2.shape[1]+[[within_block]])\n",
    "    P2 = np.concatenate((P2, concat1), 0)\n",
    "    P2 = np.concatenate((P2, concat2), 1)\n",
    "    n.append(25)\n",
    "    \n",
    "    #visualize embedding\n",
    "    #cls = pairplot(V_hat, labels, title=\"Common Latent Subspace from MASE Embedding\")\n",
    "    #labels += [\"Block %s\" %P2.shape[0]]*25\n",
    "\n",
    "plt.plot(blocks, d)"
   ]
  },
  {
   "cell_type": "code",
   "execution_count": null,
   "metadata": {},
   "outputs": [],
   "source": [
    "#debugging n_elbows\n",
    "n_blocks = 100\n",
    "P = 0*np.identity(n_blocks) + 0.5*np.ones([n_blocks, n_blocks])\n",
    "n = [25]*n_blocks\n",
    "G = sbm(n, P)\n",
    "from graspy.embed import AdjacencySpectralEmbed as ASE\n",
    "embedder = ASE(algorithm = 'full')\n",
    "V_hat = embedder.fit_transform(G)\n",
    "print(V_hat.shape[1])\n",
    "print(embedder.singular_values_)\n",
    "plt.plot(embedder.singular_values_)\n"
   ]
  },
  {
   "cell_type": "code",
   "execution_count": null,
   "metadata": {},
   "outputs": [],
   "source": [
    "#debugging n_elbows\n",
    "from scipy.linalg import svdvals\n",
    "from scipy.sparse.linalg import svds\n",
    "plt.plot(svdvals(P))"
   ]
  },
  {
   "cell_type": "code",
   "execution_count": null,
   "metadata": {},
   "outputs": [],
   "source": [
    "#debugging n_elbows\n",
    "from sklearn.datasets import make_spd_matrix as msm\n",
    "P = msm(1000)\n",
    "P = P**2\n",
    "P /= np.max(P)\n",
    "print(P)\n",
    "plt.plot(svdvals(P))\n",
    "\n",
    "A = msm(1000)"
   ]
  },
  {
   "cell_type": "code",
   "execution_count": null,
   "metadata": {},
   "outputs": [],
   "source": [
    "#debugging n_elbows\n",
    "n_blocks = 10\n",
    "P = np.identity(n_blocks)\n",
    "probs = np.linspace(0, 1, n_blocks)\n",
    "P[P==1] = probs\n",
    "plt.plot(svdvals(P))\n",
    "n = [50]*n_blocks\n",
    "G = np.array([sbm(n, P) for i in range(50)])\n",
    "G = np.mean(G, 0)\n",
    "plt.plot(svdvals(G)[0:20])\n",
    "#embedder = ASE()\n",
    "#V_hat = embedder.fit_transform(G)\n",
    "#plt.plot(embedder.singular_values_)"
   ]
  },
  {
   "cell_type": "code",
   "execution_count": null,
   "metadata": {},
   "outputs": [],
   "source": [
    "#debugging n_elbows: does svd show repeated eigenvalues?\n",
    "P = np.identity(10)\n",
    "plt.plot(svdvals(P))\n",
    "#how do the eigenvalues look when sampled into an sbm?\n",
    "n = [25]*10\n",
    "G = sbm(n, P)\n",
    "embedder.fit(G)\n",
    "plt.plot(embedder.singular_values_)"
   ]
  },
  {
   "cell_type": "code",
   "execution_count": null,
   "metadata": {},
   "outputs": [],
   "source": [
    "#debugging n_elbows\n",
    "#What if we steadily increase the between-block probabilites?\n",
    "btwn = np.linspace(0, 0.49, 10)\n",
    "for b in btwn:\n",
    "    plt.figure()\n",
    "    P = b*np.ones([10, 10])\n",
    "    probs = np.linspace(.5, 1-b, 10)\n",
    "    I = np.identity(10)\n",
    "    I[I==1] = probs\n",
    "    P += I\n",
    "    plt.plot(svdvals(P))\n",
    "    n = [25]*10\n",
    "    G = sbm(n, P)\n",
    "    embedder.fit(G)\n",
    "    plt.plot(svdvals(G)[0:20])\n",
    "    plt.plot(embedder.singular_values_)"
   ]
  },
  {
   "cell_type": "code",
   "execution_count": null,
   "metadata": {},
   "outputs": [],
   "source": [
    "#debugging n_elbows\n",
    "#What if the between probabilities are not the same\n",
    "btwn_max = np.linspace(0.01, 0.49, 10)\n",
    "for b in btwn_max:\n",
    "    plt.figure()\n",
    "    btwn = np.linspace(b/(45), b, 45)   \n",
    "    P = np.identity(10)\n",
    "    P[P==0][:45] = btwn\n",
    "    P[P==0][45:] = np.flip(btwn)\n",
    "    plt.plot(svdvals(P))\n",
    "    n = [25]*10\n",
    "    G = sbm(n, P)\n",
    "    embedder.fit(G)\n",
    "    plt.plot(svdvals(G)[0:20])\n",
    "    plt.plot(embedder.singular_values_)"
   ]
  }
 ],
 "metadata": {
  "kernelspec": {
   "display_name": "Python 3",
   "language": "python",
   "name": "python3"
  },
  "language_info": {
   "codemirror_mode": {
    "name": "ipython",
    "version": 3
   },
   "file_extension": ".py",
   "mimetype": "text/x-python",
   "name": "python",
   "nbconvert_exporter": "python",
   "pygments_lexer": "ipython3",
   "version": "3.7.6"
  }
 },
 "nbformat": 4,
 "nbformat_minor": 4
}
